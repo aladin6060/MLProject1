{
 "cells": [
  {
   "cell_type": "code",
   "execution_count": 2,
   "metadata": {},
   "outputs": [],
   "source": [
    "# Useful starting lines\n",
    "%matplotlib inline\n",
    "import numpy as np\n",
    "import matplotlib.pyplot as plt\n",
    "%load_ext autoreload\n",
    "%autoreload 2"
   ]
  },
  {
   "cell_type": "markdown",
   "metadata": {},
   "source": [
    "## Load the training data into feature matrix, class labels, and event ids:"
   ]
  },
  {
   "cell_type": "code",
   "execution_count": 6,
   "metadata": {
    "collapsed": false,
    "jupyter": {
     "outputs_hidden": false
    }
   },
   "outputs": [],
   "source": [
    "from proj1_helpers import *\n",
    "DATA_TRAIN_PATH = 'data/train_unzip.csv' \n",
    "y, tX, ids = load_csv_data(DATA_TRAIN_PATH)"
   ]
  },
  {
   "cell_type": "markdown",
   "metadata": {},
   "source": [
    "## Data Visualization"
   ]
  },
  {
   "cell_type": "code",
   "execution_count": null,
   "metadata": {},
   "outputs": [],
   "source": []
  },
  {
   "cell_type": "markdown",
   "metadata": {},
   "source": [
    "## Data Cleanup"
   ]
  },
  {
   "cell_type": "code",
   "execution_count": 23,
   "metadata": {},
   "outputs": [
    {
     "name": "stdout",
     "output_type": "stream",
     "text": [
      "Missing values' percentage for each column is \n",
      " [0.152456 0.       0.       0.       0.709828 0.709828 0.709828 0.\n",
      " 0.       0.       0.       0.       0.709828 0.       0.       0.\n",
      " 0.       0.       0.       0.       0.       0.       0.       0.399652\n",
      " 0.399652 0.399652 0.709828 0.709828 0.709828 0.      ]\n",
      "New missing values' percentage after 70% threshold \n",
      " [0.152456 0.       0.       0.       0.       0.       0.       0.\n",
      " 0.       0.       0.       0.       0.       0.       0.       0.\n",
      " 0.       0.       0.       0.399652 0.399652 0.399652 0.      ]\n",
      "Intial number of features is \n",
      " 30\n",
      "Number of deleted features is \n",
      " 7\n"
     ]
    }
   ],
   "source": [
    "# Remove data with more than 70% missing values and store the output in x1 array\n",
    "x1=tX\n",
    "missing_percent = np.zeros(len(x1[0,:]))\n",
    "new_missing_percent = []\n",
    "i = 0\n",
    "j = 0\n",
    "while True:\n",
    "    if(i==len(x1[0,:])):\n",
    "            break\n",
    "    a = (x1[:,i]==-999)+ np.zeros(len(x1[:,i]))\n",
    "    c = np.sum(a)/len(a)\n",
    "    missing_percent[j] = c\n",
    "    j+=1\n",
    "    if c>=0.7:\n",
    "        x1= np.delete(x1,i,1)\n",
    "        continue\n",
    "    new_missing_percent = np.append(new_missing_percent,c)\n",
    "    i+=1\n",
    "    \n",
    "\n",
    "print(\"Missing values' percentage for each column is \\n\",  missing_percent)\n",
    "print(\"New missing values' percentage after 70% threshold \\n\",  new_missing_percent)\n",
    "print(\"Intial number of features is \\n\", len(tX[0,:]))\n",
    "print(\"Number of deleted features is \\n\", len(tX[0,:])-len(x1[0,:]))\n"
   ]
  },
  {
   "cell_type": "code",
   "execution_count": 24,
   "metadata": {},
   "outputs": [],
   "source": [
    "# Data cleaning 2: For each feature, replace each missing value with mean of feature \n",
    "s = (len(x1[:,0]),len(x1[0,:]))\n",
    "logic_array = np.ones(s)\n",
    "for k in range(len(x1[0,:])):\n",
    "    \n",
    "    if(new_missing_percent[k]>0):\n",
    "        logic_array[:,k] = (x1[:,k]!=-999)+ np.zeros(len(a))\n",
    "x2= np.multiply(logic_array,x1) #array with zeros instead of -999\n",
    "\n",
    "mean = np.mean(x2,0) #vector with mean of each column without -999\n",
    "means = np.multiply(1-logic_array,mean) # zeros-array with mean of column instead of missing value\n",
    "x3=np.add(x2,means) # array cleaned, each -999 is replaced with mean of column\n",
    "\n",
    "\n",
    "    "
   ]
  },
  {
   "cell_type": "markdown",
   "metadata": {},
   "source": [
    "## Do your thing crazy machine learning thing here :) ..."
   ]
  },
  {
   "cell_type": "markdown",
   "metadata": {},
   "source": [
    "## Generate predictions and save ouput in csv format for submission:"
   ]
  },
  {
   "cell_type": "code",
   "execution_count": 10,
   "metadata": {
    "collapsed": false,
    "jupyter": {
     "outputs_hidden": false
    }
   },
   "outputs": [],
   "source": [
    "DATA_TEST_PATH = '' # TODO: download train data and supply path here \n",
    "_, tX_test, ids_test = load_csv_data(DATA_TEST_PATH)"
   ]
  },
  {
   "cell_type": "code",
   "execution_count": 31,
   "metadata": {
    "collapsed": false,
    "jupyter": {
     "outputs_hidden": false
    }
   },
   "outputs": [],
   "source": [
    "OUTPUT_PATH = '' # TODO: fill in desired name of output file for submission\n",
    "y_pred = predict_labels(weights, tX_test)\n",
    "create_csv_submission(ids_test, y_pred, OUTPUT_PATH)"
   ]
  },
  {
   "cell_type": "code",
   "execution_count": null,
   "metadata": {
    "collapsed": true,
    "jupyter": {
     "outputs_hidden": true
    }
   },
   "outputs": [],
   "source": []
  }
 ],
 "metadata": {
  "anaconda-cloud": {},
  "kernelspec": {
   "display_name": "Python 3",
   "language": "python",
   "name": "python3"
  },
  "language_info": {
   "codemirror_mode": {
    "name": "ipython",
    "version": 3
   },
   "file_extension": ".py",
   "mimetype": "text/x-python",
   "name": "python",
   "nbconvert_exporter": "python",
   "pygments_lexer": "ipython3",
   "version": "3.8.5"
  }
 },
 "nbformat": 4,
 "nbformat_minor": 4
}
