{
 "cells": [
  {
   "cell_type": "code",
   "execution_count": 1,
   "metadata": {},
   "outputs": [],
   "source": [
    "# Useful starting lines\n",
    "%matplotlib inline\n",
    "import numpy as np\n",
    "import matplotlib.pyplot as plt\n",
    "%load_ext autoreload\n",
    "%autoreload 2"
   ]
  },
  {
   "cell_type": "markdown",
   "metadata": {},
   "source": [
    "## Load the training data into feature matrix, class labels, and event ids:"
   ]
  },
  {
   "cell_type": "code",
   "execution_count": 2,
   "metadata": {
    "collapsed": false,
    "jupyter": {
     "outputs_hidden": false
    }
   },
   "outputs": [],
   "source": [
    "from proj1_helpers import *\n",
    "DATA_TRAIN_PATH = 'data/train_unzip.csv' \n",
    "y, tX, ids = load_csv_data(DATA_TRAIN_PATH)"
   ]
  },
  {
   "cell_type": "markdown",
   "metadata": {},
   "source": [
    "## Data Cleanup"
   ]
  },
  {
   "cell_type": "code",
   "execution_count": 3,
   "metadata": {},
   "outputs": [],
   "source": [
    "def cleanup2(x1,new_missing_percent,a):\n",
    "    s = (len(x1[:,0]),len(x1[0,:]))\n",
    "    logic_array = np.ones(s)\n",
    "    for k in range(len(x1[0,:])):\n",
    "\n",
    "        if(new_missing_percent[k]>0):\n",
    "            logic_array[:,k] = (x1[:,k]!=-999).astype(int)\n",
    "    x2= np.multiply(logic_array,x1) #array with zeros instead of -999\n",
    "\n",
    "    mean = np.mean(x2,0) #vector with mean of each column without -999\n",
    "    means = np.multiply(1-logic_array,mean) # zeros-array with mean of column instead of missing value\n",
    "    x3=np.add(x2,means) # array cleaned, each -999 is replaced with mean of column\n",
    "    return x3"
   ]
  },
  {
   "cell_type": "code",
   "execution_count": 35,
   "metadata": {},
   "outputs": [
    {
     "name": "stdout",
     "output_type": "stream",
     "text": [
      "Missing values' percentage for each column is: \n",
      " [0.152456 0.       0.       0.       0.709828 0.709828 0.709828 0.\n",
      " 0.       0.       0.       0.       0.709828 0.       0.       0.\n",
      " 0.       0.       0.       0.       0.       0.       0.       0.399652\n",
      " 0.399652 0.399652 0.709828 0.709828 0.709828 0.      ]\n",
      "New missing values' percentage after 70% threshold: \n",
      " [0.152456 0.       0.       0.       0.709828 0.709828 0.709828 0.\n",
      " 0.       0.       0.       0.       0.709828 0.       0.       0.\n",
      " 0.       0.       0.       0.       0.       0.       0.       0.399652\n",
      " 0.399652 0.399652 0.709828 0.709828 0.709828 0.      ]\n",
      "Intial number of features is \n",
      " 30\n",
      "Number of deleted features is \n",
      " 8\n"
     ]
    }
   ],
   "source": [
    "# Remove features with more than 70% missing values and store the output in x1 array\n",
    "def cleanup(x1):\n",
    "    missing_percent = np.zeros(len(x1[0,:]))\n",
    "    new_missing_percent = []\n",
    "    i = 0\n",
    "    idx_del = 0\n",
    "    for i in range(len(x1[0,:])):\n",
    "        a = ((x1[:,i]) == -999).astype(int)\n",
    "        c = np.sum(a)/len(a)\n",
    "        missing_percent[i] = c\n",
    "        if c>=0.7:\n",
    "            idx_del = np.append(idx_del,i) #save the index of the deletet features that the same can be removed form the test dat  \n",
    "        new_missing_percent = np.append(new_missing_percent,c)\n",
    "    x1 = np.delete(x1,idx_del,1)\n",
    "    print(\"Missing values' percentage for each column is: \\n\",  missing_percent)\n",
    "    print(\"New missing values' percentage after 70% threshold: \\n\",  new_missing_percent)\n",
    "    print(\"Intial number of features is \\n\", len(tX[0,:]))\n",
    "    print(\"Number of deleted features is \\n\", len(tX[0,:])-len(x1[0,:]))\n",
    "    \n",
    "    return cleanup2(x1,new_missing_percent,a), idx_del\n",
    "x3, idx_del = cleanup(tX)"
   ]
  },
  {
   "cell_type": "markdown",
   "metadata": {},
   "source": [
    "## Do your thing crazy machine learning thing here :) ..."
   ]
  },
  {
   "cell_type": "code",
   "execution_count": 37,
   "metadata": {},
   "outputs": [],
   "source": [
    "from implementations import *"
   ]
  },
  {
   "cell_type": "code",
   "execution_count": 7,
   "metadata": {},
   "outputs": [
    {
     "data": {
      "text/plain": [
       "'\\n# Logistic regression, does not work sofar\\ninitial_w = np.zeros((tx.shape[1], 1))\\nmax_iters = 10\\ngamma = 0.05\\nw, mse = logistic_regression(y, tx, initial_w, max_iters, gamma)\\n'"
      ]
     },
     "execution_count": 7,
     "metadata": {},
     "output_type": "execute_result"
    }
   ],
   "source": [
    "\"\"\"\n",
    "# Logistic regression, does not work sofar\n",
    "initial_w = np.zeros((tx.shape[1], 1))\n",
    "max_iters = 10\n",
    "gamma = 0.05\n",
    "w, mse = logistic_regression(y, tx, initial_w, max_iters, gamma)\n",
    "\"\"\""
   ]
  },
  {
   "cell_type": "code",
   "execution_count": 23,
   "metadata": {},
   "outputs": [
    {
     "ename": "TypeError",
     "evalue": "'int' object is not subscriptable",
     "output_type": "error",
     "traceback": [
      "\u001b[1;31m---------------------------------------------------------------------------\u001b[0m",
      "\u001b[1;31mTypeError\u001b[0m                                 Traceback (most recent call last)",
      "\u001b[1;32m<ipython-input-23-387f733c3eab>\u001b[0m in \u001b[0;36m<module>\u001b[1;34m\u001b[0m\n\u001b[1;32m----> 1\u001b[1;33m \u001b[0mlen\u001b[0m\u001b[1;33m(\u001b[0m\u001b[0mx3\u001b[0m\u001b[1;33m)\u001b[0m\u001b[1;33m[\u001b[0m\u001b[1;36m1\u001b[0m\u001b[1;33m]\u001b[0m\u001b[1;33m\u001b[0m\u001b[1;33m\u001b[0m\u001b[0m\n\u001b[0m",
      "\u001b[1;31mTypeError\u001b[0m: 'int' object is not subscriptable"
     ]
    }
   ],
   "source": [
    "len(x3)"
   ]
  },
  {
   "cell_type": "code",
   "execution_count": 57,
   "metadata": {},
   "outputs": [],
   "source": [
    "### Implementation of pearson coefficent\n",
    "def claculatePearson(y,x3,limit):\n",
    "    \"\"\"\n",
    "    y:\n",
    "    x3:\n",
    "    limit: \n",
    "    Returns the indexes of the absolut value of the pearson coefficent which are smaller than the limit\n",
    "    \"\"\"\n",
    "    yandx = np.c_[y,x3]\n",
    "    pearson = []\n",
    "    for i in range(len(x3[0,:])):\n",
    "        corr =  np.corrcoef(x3[:,i ],y)\n",
    "        pearson = np.append(pearson,corr[0,1])\n",
    "    idx_pearson = (~(np.abs(pearson[:])>0.1)).astype(int)\n",
    "    return idx_pearson"
   ]
  },
  {
   "cell_type": "code",
   "execution_count": 59,
   "metadata": {},
   "outputs": [],
   "source": [
    "x4 = np.delete(x3,claculatePearson(y,x3,0.1),1)"
   ]
  },
  {
   "cell_type": "code",
   "execution_count": 70,
   "metadata": {},
   "outputs": [],
   "source": [
    "tx = np.c_[np.ones((y.shape[0], 1)), x4] # Add artifical feature to get non zero intercept"
   ]
  },
  {
   "cell_type": "code",
   "execution_count": 71,
   "metadata": {},
   "outputs": [],
   "source": [
    "w, mse = least_squares(y,tx) #Least square implementation"
   ]
  },
  {
   "cell_type": "markdown",
   "metadata": {},
   "source": [
    "## Generate predictions and save ouput in csv format for submission:"
   ]
  },
  {
   "cell_type": "code",
   "execution_count": 72,
   "metadata": {
    "collapsed": false,
    "jupyter": {
     "outputs_hidden": false
    }
   },
   "outputs": [],
   "source": [
    "DATA_TEST_PATH = 'data/test_unzip.csv' \n",
    "_, tX_test, ids_test = load_csv_data(DATA_TEST_PATH)"
   ]
  },
  {
   "cell_type": "code",
   "execution_count": 73,
   "metadata": {},
   "outputs": [],
   "source": [
    "tX_test2 = np.delete(tX_test,idx_del,1)"
   ]
  },
  {
   "cell_type": "code",
   "execution_count": 74,
   "metadata": {},
   "outputs": [],
   "source": [
    "tX_test3 = np.delete(tX_test2,idx_pearson,1)"
   ]
  },
  {
   "cell_type": "code",
   "execution_count": 75,
   "metadata": {},
   "outputs": [],
   "source": [
    "tX_test4 = np.c_[np.ones((tX_test.shape[0], 1)), tX_test3]"
   ]
  },
  {
   "cell_type": "code",
   "execution_count": 76,
   "metadata": {},
   "outputs": [
    {
     "data": {
      "text/plain": [
       "(568238, 21)"
      ]
     },
     "execution_count": 76,
     "metadata": {},
     "output_type": "execute_result"
    }
   ],
   "source": [
    "tX_test4.shape"
   ]
  },
  {
   "cell_type": "code",
   "execution_count": 77,
   "metadata": {
    "collapsed": false,
    "jupyter": {
     "outputs_hidden": false
    }
   },
   "outputs": [],
   "source": [
    "OUTPUT_PATH = 'data/prediction.csv' # TODO: fill in desired name of output file for submission\n",
    "y_pred = predict_labels(w, tX_test4)\n",
    "create_csv_submission(ids_test, y_pred, OUTPUT_PATH)"
   ]
  },
  {
   "cell_type": "code",
   "execution_count": null,
   "metadata": {},
   "outputs": [],
   "source": []
  }
 ],
 "metadata": {
  "anaconda-cloud": {},
  "kernelspec": {
   "display_name": "Python 3",
   "language": "python",
   "name": "python3"
  },
  "language_info": {
   "codemirror_mode": {
    "name": "ipython",
    "version": 3
   },
   "file_extension": ".py",
   "mimetype": "text/x-python",
   "name": "python",
   "nbconvert_exporter": "python",
   "pygments_lexer": "ipython3",
   "version": "3.8.5"
  }
 },
 "nbformat": 4,
 "nbformat_minor": 4
}
